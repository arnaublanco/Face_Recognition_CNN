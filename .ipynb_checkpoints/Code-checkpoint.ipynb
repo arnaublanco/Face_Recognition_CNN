{
 "cells": [
  {
   "cell_type": "markdown",
   "id": "609c349e",
   "metadata": {},
   "source": [
    "# Libraries"
   ]
  },
  {
   "cell_type": "code",
   "execution_count": 1,
   "id": "b42d6eb4",
   "metadata": {},
   "outputs": [],
   "source": [
    "import tensorflow as tf\n",
    "import cv2\n",
    "import os\n",
    "import matplotlib.pyplot as plt\n",
    "import numpy as np\n",
    "import tensorflow as tf\n",
    "import random\n",
    "from tqdm import tqdm"
   ]
  },
  {
   "cell_type": "markdown",
   "id": "1a89225f",
   "metadata": {},
   "source": [
    "# Data"
   ]
  },
  {
   "cell_type": "markdown",
   "id": "34ff9c63",
   "metadata": {},
   "source": [
    "## Data preparation"
   ]
  },
  {
   "cell_type": "code",
   "execution_count": 2,
   "id": "65f3aee8",
   "metadata": {},
   "outputs": [
    {
     "data": {
      "text/plain": [
       "True"
      ]
     },
     "execution_count": 2,
     "metadata": {},
     "output_type": "execute_result"
    }
   ],
   "source": [
    "# Paths to images\n",
    "image_path_arnau = \"data/Arnau\"\n",
    "image_path_ashley = \"data/Ashley\"\n",
    "\n",
    "# Prepare list with image paths\n",
    "file_list_arnau = os.listdir(image_path_arnau)\n",
    "file_list_arnau = [ f for f in file_list_arnau if f.endswith('.jpeg') or f.endswith('.jpg')]\n",
    "file_list_ashley = os.listdir(image_path_ashley)\n",
    "file_list_ashley = [ f for f in file_list_ashley if f.endswith('.jpeg') or f.endswith('.jpg')]\n",
    "\n",
    "# Join lists and create labels\n",
    "file_list = file_list_arnau + file_list_ashley\n",
    "labels = np.array([0] * len(file_list_arnau) + [1] * len(file_list_ashley))\n",
    "\n",
    "# Check that file_list and labels have the same shape\n",
    "len(file_list) == len(labels)"
   ]
  },
  {
   "cell_type": "markdown",
   "id": "1e1e625d",
   "metadata": {},
   "source": [
    "## Data import"
   ]
  },
  {
   "cell_type": "markdown",
   "id": "082aa1f5",
   "metadata": {},
   "source": [
    "### Functions for face detection"
   ]
  },
  {
   "cell_type": "code",
   "execution_count": 3,
   "id": "4f8893d6",
   "metadata": {},
   "outputs": [],
   "source": [
    "# Find center of boundary box and return it.\n",
    "def findCenterBbox(bbox):\n",
    "    x_min, y_min, w, h = bbox\n",
    "    x_max = x_min + w\n",
    "    y_max = y_min + h\n",
    "\n",
    "    center = [int((x_max + x_min)//2), int((y_max + y_min)//2)] \n",
    "\n",
    "    return center"
   ]
  },
  {
   "cell_type": "code",
   "execution_count": 4,
   "id": "4415247a",
   "metadata": {},
   "outputs": [],
   "source": [
    "# Find face using the OpenCV library and return boundary box.\n",
    "def findFaces(img):\n",
    "    imgGray = cv2.cvtColor(img, cv2.COLOR_BGR2GRAY)\n",
    "\n",
    "    faceDetection = cv2.CascadeClassifier(cv2.data.haarcascades + 'haarcascade_frontalface_default.xml')\n",
    "    results = faceDetection.detectMultiScale(imgGray, 1.1, 10, minSize=[int(0.25*imgGray.shape[0]),int(0.25*imgGray.shape[1])])\n",
    "\n",
    "    bboxs = []\n",
    "    \n",
    "    if len(results):\n",
    "        counter = 1\n",
    "        for bbox in results:\n",
    "            center_bbox = findCenterBbox(bbox)\n",
    "            bboxs.append([counter, bbox, center_bbox])\n",
    "            counter = counter + 1\n",
    "\n",
    "    return bboxs"
   ]
  },
  {
   "cell_type": "code",
   "execution_count": 5,
   "id": "9779fc59",
   "metadata": {},
   "outputs": [],
   "source": [
    "# Find the dimensions of a square box based on the center and the dimensions.\n",
    "def makeSquareCrop(x_min, y_min, w, h):\n",
    "    centerX = x_min + round(w/2)\n",
    "    centerY = y_min + round(h/2)\n",
    "    dim = max([w,h])\n",
    "\n",
    "    x_min = centerX - round(dim/2)\n",
    "    y_min = centerY - round(dim/2)\n",
    "\n",
    "    w = dim\n",
    "    h = dim\n",
    "\n",
    "    return x_min, y_min, w, h"
   ]
  },
  {
   "cell_type": "code",
   "execution_count": 6,
   "id": "bf5ca83d",
   "metadata": {},
   "outputs": [],
   "source": [
    "# Check if the boundaries are valid.\n",
    "def boundariesValidation(x, y):\n",
    "    x = max([x, 0])\n",
    "    y = max([y, 0])\n",
    "\n",
    "    return x, y"
   ]
  },
  {
   "cell_type": "code",
   "execution_count": 7,
   "id": "69653bd9",
   "metadata": {},
   "outputs": [],
   "source": [
    "# Crop image and return it.\n",
    "def crop(img, bbox):\n",
    "    x_min, y_min, w, h = bbox\n",
    "\n",
    "    x_min, y_min, w, h = makeSquareCrop(x_min, y_min, w, h)        \n",
    "\n",
    "    x_min, y_min = boundariesValidation(x_min, y_min)\n",
    "\n",
    "    return img[y_min:y_min+h, x_min:x_min+w]"
   ]
  },
  {
   "cell_type": "markdown",
   "id": "d8c83da9",
   "metadata": {},
   "source": [
    "### Data retrieval"
   ]
  },
  {
   "cell_type": "code",
   "execution_count": 8,
   "id": "7236bb52",
   "metadata": {},
   "outputs": [
    {
     "name": "stderr",
     "output_type": "stream",
     "text": [
      " 57%|███████████████████████████████████████████████████████████████████▊                                                  | 666/1159 [00:39<00:09, 50.09it/s]libpng warning: iCCP: known incorrect sRGB profile\n",
      "100%|█████████████████████████████████████████████████████████████████████████████████████████████████████████████████████| 1159/1159 [00:50<00:00, 23.05it/s]\n"
     ]
    }
   ],
   "source": [
    "input_size = [32,32] # Input size of image\n",
    "\n",
    "# Initialize img_feature to store the images\n",
    "img_features = np.empty([1,input_size[0], input_size[1],3])\n",
    "idx_keep = []\n",
    "\n",
    "# For loop to iterate through all files\n",
    "for i in tqdm(range(1,len(file_list))):\n",
    "\n",
    "    f = file_list[i] # Current file\n",
    "    \n",
    "    # Path based on label\n",
    "    if labels[i]:\n",
    "        path = image_path_ashley + '/' + f\n",
    "    else:\n",
    "        path = image_path_arnau + '/' + f\n",
    "\n",
    "    # Skip iteration if image cannot be loaded\n",
    "    img = cv2.imread(path)\n",
    "    if img is None:\n",
    "        continue\n",
    "    \n",
    "    bboxs = findFaces(img) # Find face\n",
    "\n",
    "    # If no faces have been found, skip face\n",
    "    if(len(bboxs) == 0):\n",
    "        continue     \n",
    "    \n",
    "    # Crop faces in square dimensions\n",
    "    img_face = crop(img, bboxs[0][1])\n",
    "    \n",
    "    # Resize image into input_size and convert BGR to RGB\n",
    "    img_face_ds = cv2.resize(img_face, (input_size[0],input_size[1]))\n",
    "    img_face_ds = cv2.cvtColor(img_face_ds, cv2.COLOR_BGR2RGB)\n",
    "\n",
    "    # Reshape image and append it to img_features\n",
    "    features = np.reshape(img_face_ds,[1,input_size[0],input_size[1],3])\n",
    "    img_features = np.append(img_features,features,axis=0)\n",
    "\n",
    "    idx_keep.append(i) # Indices of images with detected faces\n",
    "\n",
    "# Delete positions where no faces have been detected\n",
    "img_features = np.delete(img_features,obj=0,axis=0)\n",
    "labels = labels[idx_keep]\n",
    "\n",
    "N_samples = img_features.shape[0] # Compute number of samples"
   ]
  },
  {
   "cell_type": "markdown",
   "id": "88d5c581",
   "metadata": {},
   "source": [
    "# Deep learning model"
   ]
  },
  {
   "cell_type": "markdown",
   "id": "5ac67270",
   "metadata": {},
   "source": [
    "## Convolutional Neural Network (CNN) architecture"
   ]
  },
  {
   "cell_type": "code",
   "execution_count": 9,
   "id": "f1dfde68",
   "metadata": {},
   "outputs": [
    {
     "name": "stdout",
     "output_type": "stream",
     "text": [
      "Metal device set to: Apple M1\n"
     ]
    },
    {
     "name": "stderr",
     "output_type": "stream",
     "text": [
      "2022-02-23 12:21:18.333367: I tensorflow/core/common_runtime/pluggable_device/pluggable_device_factory.cc:305] Could not identify NUMA node of platform GPU ID 0, defaulting to 0. Your kernel may not have been built with NUMA support.\n",
      "2022-02-23 12:21:18.334604: I tensorflow/core/common_runtime/pluggable_device/pluggable_device_factory.cc:271] Created TensorFlow device (/job:localhost/replica:0/task:0/device:GPU:0 with 0 MB memory) -> physical PluggableDevice (device: 0, name: METAL, pci bus id: <undefined>)\n"
     ]
    }
   ],
   "source": [
    "model = tf.keras.Sequential(\n",
    "    [\n",
    "    tf.keras.layers.Conv2D(input_size[0], (3, 3), activation='relu', input_shape=(input_size[0], input_size[1], 3)),\n",
    "    tf.keras.layers.MaxPooling2D((2, 2)),\n",
    "\n",
    "    tf.keras.layers.Conv2D(64, (3, 3), activation='relu'),\n",
    "    tf.keras.layers.MaxPooling2D((2, 2)),\n",
    "\n",
    "    tf.keras.layers.MaxPooling2D((2, 2)),\n",
    "    tf.keras.layers.Conv2D(64, (3, 3), activation='relu'),\n",
    "    tf.keras.layers.Flatten(),\n",
    "    tf.keras.layers.Dense(64, activation='relu'),\n",
    "    tf.keras.layers.Dense(2)\n",
    "    ]\n",
    ")"
   ]
  },
  {
   "cell_type": "markdown",
   "id": "092e0b7c",
   "metadata": {},
   "source": [
    "## Model fitting"
   ]
  },
  {
   "cell_type": "code",
   "execution_count": 10,
   "id": "aeee75d3",
   "metadata": {},
   "outputs": [
    {
     "name": "stdout",
     "output_type": "stream",
     "text": [
      "Epoch 1/10\n"
     ]
    },
    {
     "name": "stderr",
     "output_type": "stream",
     "text": [
      "2022-02-23 12:21:18.627353: W tensorflow/core/platform/profile_utils/cpu_utils.cc:128] Failed to get CPU frequency: 0 Hz\n",
      "2022-02-23 12:21:18.885256: I tensorflow/core/grappler/optimizers/custom_graph_optimizer_registry.cc:113] Plugin optimizer for device_type GPU is enabled.\n"
     ]
    },
    {
     "name": "stdout",
     "output_type": "stream",
     "text": [
      "16/16 [==============================] - 1s 28ms/step - loss: 3.8846 - accuracy: 0.6962 - val_loss: 0.9835 - val_accuracy: 0.6948\n",
      "Epoch 2/10\n",
      "14/16 [=========================>....] - ETA: 0s - loss: 0.5388 - accuracy: 0.7991"
     ]
    },
    {
     "name": "stderr",
     "output_type": "stream",
     "text": [
      "2022-02-23 12:21:19.504025: I tensorflow/core/grappler/optimizers/custom_graph_optimizer_registry.cc:113] Plugin optimizer for device_type GPU is enabled.\n"
     ]
    },
    {
     "name": "stdout",
     "output_type": "stream",
     "text": [
      "16/16 [==============================] - 0s 11ms/step - loss: 0.5118 - accuracy: 0.8089 - val_loss: 0.3079 - val_accuracy: 0.8826\n",
      "Epoch 3/10\n",
      "16/16 [==============================] - 0s 11ms/step - loss: 0.3494 - accuracy: 0.8632 - val_loss: 0.1613 - val_accuracy: 0.9437\n",
      "Epoch 4/10\n",
      "16/16 [==============================] - 0s 11ms/step - loss: 0.1536 - accuracy: 0.9557 - val_loss: 0.2037 - val_accuracy: 0.9061\n",
      "Epoch 5/10\n",
      "16/16 [==============================] - 0s 11ms/step - loss: 0.1828 - accuracy: 0.9276 - val_loss: 0.2057 - val_accuracy: 0.9249\n",
      "Epoch 6/10\n",
      "16/16 [==============================] - 0s 15ms/step - loss: 0.1690 - accuracy: 0.9256 - val_loss: 0.1504 - val_accuracy: 0.9531\n",
      "Epoch 7/10\n",
      "16/16 [==============================] - 0s 12ms/step - loss: 0.0468 - accuracy: 0.9819 - val_loss: 0.1027 - val_accuracy: 0.9718\n",
      "Epoch 8/10\n",
      "16/16 [==============================] - 0s 13ms/step - loss: 0.0281 - accuracy: 0.9899 - val_loss: 0.0836 - val_accuracy: 0.9765\n",
      "Epoch 9/10\n",
      "16/16 [==============================] - 0s 14ms/step - loss: 0.0275 - accuracy: 0.9960 - val_loss: 0.1249 - val_accuracy: 0.9765\n",
      "Epoch 10/10\n",
      "16/16 [==============================] - 0s 12ms/step - loss: 0.0136 - accuracy: 1.0000 - val_loss: 0.0964 - val_accuracy: 0.9765\n",
      "7/7 - 0s - loss: 0.0964 - accuracy: 0.9765 - 38ms/epoch - 5ms/step\n"
     ]
    },
    {
     "data": {
      "image/png": "[encoded data removed]",
      "text/plain": [
       "<Figure size 432x288 with 1 Axes>"
      ]
     },
     "metadata": {
      "needs_background": "light"
     },
     "output_type": "display_data"
    }
   ],
   "source": [
    "# Define indices of training (70%) and testing (30%)\n",
    "train_indices = random.sample(range(0, N_samples), round(N_samples*0.7)) #int(np.floor(img_features.shape[0]*0.7))\n",
    "test_indices = list(set(list(range(0,N_samples))).difference(set(train_indices)))\n",
    "\n",
    "# Split images into training and testing\n",
    "train = img_features[train_indices,:,:,:]\n",
    "train_labels = labels[train_indices]\n",
    "\n",
    "test = img_features[test_indices,:,:,:]\n",
    "test_labels = labels[test_indices]\n",
    "\n",
    "# Train CNN model\n",
    "model.compile(optimizer='adam', loss=tf.keras.losses.SparseCategoricalCrossentropy(from_logits=True), metrics=['accuracy'])\n",
    "\n",
    "history = model.fit(train, train_labels, epochs=10, validation_data=(test, test_labels))\n",
    "\n",
    "plt.plot(history.history['accuracy'], label='accuracy')\n",
    "plt.plot(history.history['val_accuracy'], label = 'val_accuracy')\n",
    "plt.xlabel('Epoch')\n",
    "plt.ylabel('Accuracy')\n",
    "plt.ylim([0, 1])\n",
    "plt.legend(loc='lower right')\n",
    "\n",
    "test_loss, test_acc = model.evaluate(test,  test_labels, verbose=2)"
   ]
  },
  {
   "cell_type": "code",
   "execution_count": 11,
   "id": "643db2c8",
   "metadata": {},
   "outputs": [
    {
     "name": "stderr",
     "output_type": "stream",
     "text": [
      "2022-02-23 12:21:21.689165: W tensorflow/python/util/util.cc:368] Sets are not currently considered sequences, but this may change in the future, so consider avoiding using them.\n"
     ]
    },
    {
     "name": "stdout",
     "output_type": "stream",
     "text": [
      "INFO:tensorflow:Assets written to: data/my_model/assets\n"
     ]
    }
   ],
   "source": [
    "# Save model\n",
    "model.save('data/my_model')"
   ]
  },
  {
   "cell_type": "code",
   "execution_count": 12,
   "id": "fe8774e9",
   "metadata": {},
   "outputs": [],
   "source": [
    "# Free memory\n",
    "#del img_features"
   ]
  },
  {
   "cell_type": "markdown",
   "id": "46718057",
   "metadata": {},
   "source": [
    "# Testing the model"
   ]
  },
  {
   "cell_type": "code",
   "execution_count": 14,
   "id": "14f152de",
   "metadata": {},
   "outputs": [
    {
     "name": "stderr",
     "output_type": "stream",
     "text": [
      "2022-02-23 12:21:54.338258: I tensorflow/core/grappler/optimizers/custom_graph_optimizer_registry.cc:113] Plugin optimizer for device_type GPU is enabled.\n"
     ]
    }
   ],
   "source": [
    "model = tf.keras.models.load_model('data/my_model') # Import model\n",
    "cap = cv2.VideoCapture(0) # Load webcam\n",
    "class_names = ['Arnau', 'Ashley'] # Classes names\n",
    "\n",
    "# Check if the webcam is opened correctly\n",
    "if not cap.isOpened():\n",
    "    raise IOError(\"Cannot open webcam\")\n",
    "\n",
    "# Real-time face recognition\n",
    "while for_loop:\n",
    "    ret, frame = cap.read()\n",
    "    frame = cv2.resize(frame, None, fx=0.5, fy=0.5,\n",
    "                       interpolation=cv2.INTER_AREA)\n",
    "\n",
    "    bboxs = findFaces(frame)\n",
    "\n",
    "    c = cv2.waitKey(1)\n",
    "\n",
    "    if c == 27:  # Escape\n",
    "        break\n",
    "\n",
    "    for i in range(0, len(bboxs)):\n",
    "        bbox = bboxs[i][1]\n",
    "        img_face = crop(frame, bbox)\n",
    "        img_face_ds = cv2.resize(img_face, (input_size[0], input_size[1]))\n",
    "        img_face_ds = cv2.cvtColor(img_face_ds, cv2.COLOR_BGR2RGB)\n",
    "\n",
    "        predictions = model.predict(\n",
    "            np.reshape(img_face_ds, [1, img_face_ds.shape[0], img_face_ds.shape[1], 3]))\n",
    "        score = tf.nn.softmax(predictions[0])\n",
    "        pred_class = class_names[np.argmax(score)]\n",
    "        pred_score = 100 * np.max(score)\n",
    "        cv2.rectangle(\n",
    "            frame, (bbox[0], bbox[1]), (bbox[0]+bbox[2], bbox[1]+bbox[3]), (255, 0, 0), 2)\n",
    "        cv2.putText(\n",
    "            frame, pred_class + ' | ' + str(int(pred_score)) + '%', org=(bbox[0]+bbox[2], bbox[1]), fontFace=cv2.FONT_HERSHEY_PLAIN, fontScale=1, color=(255, 0, 0))\n",
    "\n",
    "    cv2.imshow('Input', frame)\n",
    "\n",
    "cap.release()\n",
    "cv2.destroyAllWindows()"
   ]
  }
 ],
 "metadata": {
  "kernelspec": {
   "display_name": "Python 3 (ipykernel)",
   "language": "python",
   "name": "python3"
  },
  "language_info": {
   "codemirror_mode": {
    "name": "ipython",
    "version": 3
   },
   "file_extension": ".py",
   "mimetype": "text/x-python",
   "name": "python",
   "nbconvert_exporter": "python",
   "pygments_lexer": "ipython3",
   "version": "3.9.7"
  }
 },
 "nbformat": 4,
 "nbformat_minor": 5
}
